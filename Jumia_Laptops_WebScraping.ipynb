{
 "cells": [
  {
   "cell_type": "code",
   "execution_count": 1,
   "metadata": {},
   "outputs": [],
   "source": [
    "from bs4 import BeautifulSoup\n",
    "import requests"
   ]
  },
  {
   "cell_type": "code",
   "execution_count": 2,
   "metadata": {},
   "outputs": [],
   "source": [
    "html_text = requests.get('https://www.jumia.co.ke/catalog/?q=laptops#catalog-listing').text"
   ]
  },
  {
   "cell_type": "code",
   "execution_count": 3,
   "metadata": {},
   "outputs": [
    {
     "name": "stdout",
     "output_type": "stream",
     "text": [
      "40\n",
      "<div class=\"info\"><h3 class=\"name\">HP Refurbished EliteBook 8470p Core I5 - HDD 500GB - 4GB RAM WIFI CAM Silver - 14\" 6 Months WRTY</h3><div class=\"prc\">KSh 16,199</div><div class=\"s-prc-w\"><div class=\"old\">KSh 19,999</div><div class=\"bdg _dsct _sm\">19%</div></div><p class=\"mpg\" data-prc=\"KSh 16,199\" data-tot=\"3\">offers from</p><div class=\"rev\"><div class=\"stars _s\">3.8 out of 5<div class=\"in\" style=\"width:76%\"></div></div>(30)</div></div>\n"
     ]
    },
    {
     "data": {
      "text/plain": [
       "[<div class=\"info\"><h3 class=\"name\">HP Refurbished EliteBook 8470p Core I5 - HDD 500GB - 4GB RAM WIFI CAM Silver - 14\" 6 Months WRTY</h3><div class=\"prc\">KSh 16,199</div><div class=\"s-prc-w\"><div class=\"old\">KSh 19,999</div><div class=\"bdg _dsct _sm\">19%</div></div><p class=\"mpg\" data-prc=\"KSh 16,199\" data-tot=\"3\">offers from</p><div class=\"rev\"><div class=\"stars _s\">3.8 out of 5<div class=\"in\" style=\"width:76%\"></div></div>(30)</div></div>,\n",
       " <div class=\"info\"><h3 class=\"name\">HP Chromebook 11 G7 Storage 32GB/ 4GB RAM - Intel Celeron N4000 &amp;ndash; Bluetooth &amp;ndash; Camera - Chrome OS &amp;ndash; Refurb., 6M WRTY</h3><div class=\"prc\">KSh 11,999</div><div class=\"s-prc-w\"><div class=\"old\">KSh 16,799</div><div class=\"bdg _dsct _sm\">29%</div></div><div class=\"rev\"><div class=\"stars _s\">4.7 out of 5<div class=\"in\" style=\"width:94%\"></div></div>(3)</div></div>,\n",
       " <div class=\"info\"><h3 class=\"name\">Lenovo Refurbished Thinkpad X131e - 11.6\" - Intel Dual-Ccore - 4GB RAM - 320GB HDD - Black (6 Months WRTY)</h3><div class=\"prc\">KSh 13,498</div><div class=\"s-prc-w\"><div class=\"old\">KSh 14,999</div><div class=\"bdg _dsct _sm\">10%</div></div><p class=\"mpg\" data-prc=\"KSh 13,498\" data-tot=\"2\">offers from</p><div class=\"rev\"><div class=\"stars _s\">3.8 out of 5<div class=\"in\" style=\"width:76%\"></div></div>(47)</div></div>,\n",
       " <div class=\"info\"><h3 class=\"name\">HP Chromebook 11 G7 - Intel Celeron - Storage 32GB/ 4GB RAM - HDMI- Bluetooth &amp;ndash; Camera -Refurb, 6M WRTY</h3><div class=\"prc\">KSh 11,999</div><div class=\"s-prc-w\"><div class=\"old\">KSh 16,999</div><div class=\"bdg _dsct _sm\">29%</div></div><div class=\"rev\"><div class=\"stars _s\">5 out of 5<div class=\"in\" style=\"width:100%\"></div></div>(1)</div></div>,\n",
       " <div class=\"info\"><h3 class=\"name\">DELL Refurbished Latitude E7450 HD Display Core I7 4GB RAM 500GB HDD 14″ ,5TH Gen (6M WRY)</h3><div class=\"prc\">KSh 28,499</div><div class=\"s-prc-w\"><div class=\"old\">KSh 38,790</div><div class=\"bdg _dsct _sm\">27%</div></div><div class=\"rev\"><div class=\"stars _s\">2 out of 5<div class=\"in\" style=\"width:40%\"></div></div>(1)</div></div>,\n",
       " <div class=\"info\"><h3 class=\"name\">Samsung Chromebook 4 &amp;ndash; Intel Celeron N4000 - 11.6\" HD Storage 4 GB RAM - 32GB SSD &amp;ndash; Bluetooth &amp;ndash; Camera - Chrome OS &amp;ndash; XE310XBA - Refurb (6M WRTY)</h3><div class=\"prc\">KSh 11,999</div><div class=\"s-prc-w\"><div class=\"old\">KSh 15,999</div><div class=\"bdg _dsct _sm\">25%</div></div><div class=\"rev\"><div class=\"stars _s\">3.7 out of 5<div class=\"in\" style=\"width:74%\"></div></div>(6)</div></div>,\n",
       " <div class=\"info\"><div class=\"bdg _mall _xs\">Official Store</div><h3 class=\"name\">Geo Geobook 120, Intel Celeron, 4GB RAM 64GB EMMC, 12.5 Inch Display, Windows 10 - Black, 6 Months WRTY</h3><div class=\"prc\">KSh 12,999</div><div class=\"s-prc-w\"><div class=\"old\">KSh 25,999</div><div class=\"bdg _dsct _sm\">50%</div></div><div class=\"rev\"><div class=\"stars _s\">3.3 out of 5<div class=\"in\" style=\"width:66%\"></div></div>(23)</div><svg aria-label=\"Express Shipping\" class=\"ic xprss\" height=\"10\" viewbox=\"0 0 114 12\" width=\"94\"><use xlink:href=\"https://www.jumia.co.ke/assets_he/images/i-shop-jumia.9f5451c7.svg#express\"></use></svg></div>,\n",
       " <div class=\"info\"><h3 class=\"name\">HP Refurbished Elitebook 820  Core  I5, 8GB RAM 500GB  HDD -12.5\", Black</h3><div class=\"prc\">KSh 19,499</div><div class=\"s-prc-w\"><div class=\"old\">KSh 24,999</div><div class=\"bdg _dsct _sm\">22%</div></div><p class=\"mpg\" data-prc=\"KSh 19,499\" data-tot=\"3\">offers from</p><div class=\"rev\"><div class=\"stars _s\">4 out of 5<div class=\"in\" style=\"width:80%\"></div></div>(156)</div></div>,\n",
       " <div class=\"info\"><h3 class=\"name\">Acer Chromebook C720 Intel Celeron - 11.6&amp;rdquo; - Storage 2GB RAM / 25GB SSD, Webcam , Bluetooth  &amp;ndash; Refurb</h3><div class=\"prc\">KSh 11,999</div><div class=\"s-prc-w\"><div class=\"old\">KSh 16,900</div><div class=\"bdg _dsct _sm\">29%</div></div><div class=\"rev\"><div class=\"stars _s\">3.5 out of 5<div class=\"in\" style=\"width:70%\"></div></div>(2)</div></div>,\n",
       " <div class=\"info\"><h3 class=\"name\">DELL Refurbished E5430, Intel Core I5, 4GB RAM - 500GB HDD</h3><div class=\"prc\">KSh 18,499</div><div class=\"s-prc-w\"><div class=\"old\">KSh 23,500</div><div class=\"bdg _dsct _sm\">21%</div></div></div>,\n",
       " <div class=\"info\"><h3 class=\"name\">HP Refurb Probook 450 G2, 15.6\" -Core I5 - 4GB RAM - 500GB HDD - Win10 Trial, Grey+Free Bag (6 Months WRTY)</h3><div class=\"prc\">KSh 31,199</div><div class=\"s-prc-w\"><div class=\"old\">KSh 34,000</div><div class=\"bdg _dsct _sm\">8%</div></div></div>,\n",
       " <div class=\"info\"><h3 class=\"name\">HP Refurb Probook 450 G2, 15.6\" -Core I5 - 4GB RAM - 500GB HDD - Win10 Trial, Black+Free Bag (6M WRY)</h3><div class=\"prc\">KSh 31,199</div><div class=\"s-prc-w\"><div class=\"old\">KSh 34,000</div><div class=\"bdg _dsct _sm\">8%</div></div></div>,\n",
       " <div class=\"info\"><h3 class=\"name\">HP 11 G7 EE Chromebook 11.6\" Screen  4GB RAM - 32GB SSD &amp;ndash; HDMI - Bluetooth &amp;ndash; Refurb, 6M WRTY</h3><div class=\"prc\">KSh 11,999</div><div class=\"s-prc-w\"><div class=\"old\">KSh 16,999</div><div class=\"bdg _dsct _sm\">29%</div></div><div class=\"rev\"><div class=\"stars _s\">4 out of 5<div class=\"in\" style=\"width:80%\"></div></div>(2)</div></div>,\n",
       " <div class=\"info\"><h3 class=\"name\">AVITA SATUS S102 / 15.6\" FHD / Intel Core i5 1235U / 8G 512GB / US KBD / Light Purple</h3><div class=\"prc\">KSh 123,500</div><div class=\"s-prc-w\"><div class=\"old\">KSh 145,000</div><div class=\"bdg _dsct _sm\">15%</div></div></div>,\n",
       " <div class=\"info\"><h3 class=\"name\">HP Refurbished  8GB RAM, 500GB HDD HP EliteBook 8460p, Intel Core I5  + FREE MOUSE</h3><div class=\"prc\">KSh 19,999</div><div class=\"rev\"><div class=\"stars _s\">2 out of 5<div class=\"in\" style=\"width:40%\"></div></div>(4)</div></div>,\n",
       " <div class=\"info\"><h3 class=\"name\">HP SUPER SLIM Refurbished HP EliteBook Folio 9470m, 14\" Intel Core I7 8GB RAM/ 500GB HDD</h3><div class=\"prc\">KSh 30,999</div><div class=\"s-prc-w\"><div class=\"old\">KSh 45,000</div><div class=\"bdg _dsct _sm\">31%</div></div><p class=\"mpg\" data-prc=\"KSh 30,999\" data-tot=\"4\">offers from</p><div class=\"rev\"><div class=\"stars _s\">4.5 out of 5<div class=\"in\" style=\"width:90%\"></div></div>(4)</div></div>,\n",
       " <div class=\"info\"><h3 class=\"name\">Apple MacBook Pro 13\" Core I5 2.4GHz 8GB RAM, 500GB HDD (2012) Silver Refurbished</h3><div class=\"prc\">KSh 24,959</div><div class=\"s-prc-w\"><div class=\"old\">KSh 32,000</div><div class=\"bdg _dsct _sm\">22%</div></div><div class=\"rev\"><div class=\"stars _s\">3.8 out of 5<div class=\"in\" style=\"width:76%\"></div></div>(15)</div></div>,\n",
       " <div class=\"info\"><h3 class=\"name\">HP EliteBook 820 Core I5 8GB RAM 512gb SSD Slim Ultrabook Laptop Refurbished, 6 Months WRTY (6 Months WRTY)</h3><div class=\"prc\">KSh 27,999</div><div class=\"s-prc-w\"><div class=\"old\">KSh 40,000</div><div class=\"bdg _dsct _sm\">30%</div></div><p class=\"mpg\" data-prc=\"KSh 27,999\" data-tot=\"3\">offers from</p></div>,\n",
       " <div class=\"info\"><div class=\"bdg _mall _xs\">Official Store</div><h3 class=\"name\">Thomson NEO Laptop, Intel Celeron, 4GB RAM, 256GB SSD, Windows 11 Pro, 15.6\" FHD Display, Silver (1YR WRTY)</h3><div class=\"prc\">KSh 19,999</div><div class=\"s-prc-w\"><div class=\"old\">KSh 26,000</div><div class=\"bdg _dsct _sm\">23%</div></div></div>,\n",
       " <div class=\"info\"><h3 class=\"name\">Lenovo Refurbished Thinkpad Intel Core I5 8 GB RAM 500 GB HDD 12.5'' Black (6 Months WRTY)</h3><div class=\"prc\">KSh 20,499</div><div class=\"s-prc-w\"><div class=\"old\">KSh 37,500</div><div class=\"bdg _dsct _sm\">45%</div></div><div class=\"rev\"><div class=\"stars _s\">3.7 out of 5<div class=\"in\" style=\"width:74%\"></div></div>(26)</div></div>,\n",
       " <div class=\"info\"><h3 class=\"name\">HP Refurbished EliteBook 840, Intel Core i7, 500 HDD +  8GB RAM - Black</h3><div class=\"prc\">KSh 27,000</div><div class=\"s-prc-w\"><div class=\"old\">KSh 58,000</div><div class=\"bdg _dsct _sm\">53%</div></div><p class=\"mpg\" data-prc=\"KSh 27,000\" data-tot=\"3\">offers from</p><div class=\"rev\"><div class=\"stars _s\">4 out of 5<div class=\"in\" style=\"width:80%\"></div></div>(20)</div></div>,\n",
       " <div class=\"info\"><h3 class=\"name\">HP EliteBook 820 G4 Intel Core I5 7th Gen Refurbished 8GB-256GB SSD Silver-12.6\", 6 Months WRTY</h3><div class=\"prc\">KSh 27,792</div><div class=\"s-prc-w\"><div class=\"old\">KSh 45,000</div><div class=\"bdg _dsct _sm\">38%</div></div><p class=\"mpg\" data-prc=\"KSh 27,792\" data-tot=\"2\">offers from</p><div class=\"rev\"><div class=\"stars _s\">2 out of 5<div class=\"in\" style=\"width:40%\"></div></div>(2)</div></div>,\n",
       " <div class=\"info\"><h3 class=\"name\">HP EliteBook 8460p, Intel Core I5, 14'' Windows 11 PRO Activated  Refurbished 8GB RAM, Fast Speed 256GB SSD Office &amp; Basic software Installed + FREE MOUSE</h3><div class=\"prc\">KSh 19,999</div><div class=\"s-prc-w\"><div class=\"old\">KSh 22,000</div><div class=\"bdg _dsct _sm\">9%</div></div><div class=\"rev\"><div class=\"stars _s\">4 out of 5<div class=\"in\" style=\"width:80%\"></div></div>(5)</div></div>,\n",
       " <div class=\"info\"><h3 class=\"name\">X Tigi HeroBook  10.1\"- Quad Core - 4Gb RAM-128Gb ROM -Android Notebook- 4000mAh-13 Months Warranty</h3><div class=\"prc\">KSh 11,999</div><div class=\"s-prc-w\"><div class=\"old\">KSh 21,599</div><div class=\"bdg _dsct _sm\">44%</div></div><div class=\"rev\"><div class=\"stars _s\">3.5 out of 5<div class=\"in\" style=\"width:70%\"></div></div>(20)</div><svg aria-label=\"Express Shipping\" class=\"ic xprss\" height=\"10\" viewbox=\"0 0 114 12\" width=\"94\"><use xlink:href=\"https://www.jumia.co.ke/assets_he/images/i-shop-jumia.9f5451c7.svg#express\"></use></svg></div>,\n",
       " <div class=\"info\"><h3 class=\"name\">HP SUPER SLIM Refurbished HP EliteBook Folio 9480m, 14\" Intel Core I7 8GB RAM/ 1 TB HDD</h3><div class=\"prc\">KSh 32,999</div><div class=\"s-prc-w\"><div class=\"old\">KSh 54,000</div><div class=\"bdg _dsct _sm\">39%</div></div><p class=\"mpg\" data-prc=\"KSh 32,999\" data-tot=\"5\">offers from</p><div class=\"rev\"><div class=\"stars _s\">5 out of 5<div class=\"in\" style=\"width:100%\"></div></div>(1)</div></div>,\n",
       " <div class=\"info\"><h3 class=\"name\">Lenovo Refurbished Thinkpad 11E Celeron - 4 GB RAM - SSD 128GB 11.6'' - Black (6 Months WRTY)</h3><div class=\"prc\">KSh 16,499</div><div class=\"s-prc-w\"><div class=\"old\">KSh 19,500</div><div class=\"bdg _dsct _sm\">15%</div></div><div class=\"rev\"><div class=\"stars _s\">5 out of 5<div class=\"in\" style=\"width:100%\"></div></div>(3)</div></div>,\n",
       " <div class=\"info\"><div class=\"bdg _mall _xs\">Official Store</div><h3 class=\"name\">Thomson NEO Laptop, Intel Celeron, 4GB RAM, 256GB SSD, Windows 11 Pro, 15.6\" FHD Display, Silver, Bag + 64GB Flash + Mouse (1YR WRTY)</h3><div class=\"prc\">KSh 23,039</div><div class=\"s-prc-w\"><div class=\"old\">KSh 28,000</div><div class=\"bdg _dsct _sm\">18%</div></div></div>,\n",
       " <div class=\"info\"><h3 class=\"name\">HP Refurbished Chromebook 11x360G5 EE 4GB RAM ,32GB HDD,CHROME OS, TOUCH SCREEN + FREE MOUSE</h3><div class=\"prc\">KSh 13,999</div><div class=\"rev\"><div class=\"stars _s\">3.9 out of 5<div class=\"in\" style=\"width:78%\"></div></div>(54)</div></div>,\n",
       " <div class=\"info\"><h3 class=\"name\">Lenovo Refurbished Thinkpad X250 Intel Core I5 8 GB RAM 256GB SSD 12.5'' Black (6M WRTY)</h3><div class=\"prc\">KSh 19,499</div><div class=\"s-prc-w\"><div class=\"old\">KSh 37,500</div><div class=\"bdg _dsct _sm\">48%</div></div><div class=\"rev\"><div class=\"stars _s\">5 out of 5<div class=\"in\" style=\"width:100%\"></div></div>(3)</div></div>,\n",
       " <div class=\"info\"><h3 class=\"name\">HP EliteBook 820 G1 Intel Core I5 6th Gen 4GB RAM 500GB HDD 12.5 Inches</h3><div class=\"prc\">KSh 19,799</div><div class=\"s-prc-w\"><div class=\"old\">KSh 25,000</div><div class=\"bdg _dsct _sm\">21%</div></div><p class=\"mpg\" data-prc=\"KSh 19,799\" data-tot=\"3\">offers from</p><div class=\"rev\"><div class=\"stars _s\">5 out of 5<div class=\"in\" style=\"width:100%\"></div></div>(1)</div></div>,\n",
       " <div class=\"info\"><h3 class=\"name\">Lenovo Refurbished Thinkpad X250 Intel Core I5 8 GB RAM 500 GB HDD 12.5'' Black (6M WRTY)</h3><div class=\"prc\">KSh 19,199</div><div class=\"s-prc-w\"><div class=\"old\">KSh 37,500</div><div class=\"bdg _dsct _sm\">49%</div></div><div class=\"rev\"><div class=\"stars _s\">5 out of 5<div class=\"in\" style=\"width:100%\"></div></div>(1)</div></div>,\n",
       " <div class=\"info\"><h3 class=\"name\">Lenovo Refurbished Thinkpad X250 Intel Core I5 - 8 GB RAM - 1TB HDD 12.5'' Black (6 Months WRTY)</h3><div class=\"prc\">KSh 22,999</div><div class=\"s-prc-w\"><div class=\"old\">KSh 36,999</div><div class=\"bdg _dsct _sm\">38%</div></div><div class=\"rev\"><div class=\"stars _s\">4 out of 5<div class=\"in\" style=\"width:80%\"></div></div>(6)</div></div>,\n",
       " <div class=\"info\"><h3 class=\"name\">HP Refurbished EliteBook 8470p - Core I5 - HDD 500GB - 4GB RAM DVDRW CAM Silver - 14\"</h3><div class=\"prc\">KSh 16,499</div><div class=\"s-prc-w\"><div class=\"old\">KSh 19,999</div><div class=\"bdg _dsct _sm\">18%</div></div><div class=\"rev\"><div class=\"stars _s\">3.6 out of 5<div class=\"in\" style=\"width:72%\"></div></div>(8)</div></div>,\n",
       " <div class=\"info\"><h3 class=\"name\">HP 8th Gen Refurbished EliteBook 840 G5 Intel Core I5 16GB, 256 GB SSD WIN 11 Trial</h3><div class=\"prc\">KSh 39,999</div><div class=\"s-prc-w\"><div class=\"old\">KSh 50,000</div><div class=\"bdg _dsct _sm\">20%</div></div><p class=\"mpg\" data-prc=\"KSh 39,999\" data-tot=\"2\">offers from</p></div>,\n",
       " <div class=\"info\"><h3 class=\"name\">HP SUPER SLIM Refurbished HP EliteBook Folio 9470m, 14\" Intel Core I7 4GB RAM/1TB HDD</h3><div class=\"prc\">KSh 30,999</div><div class=\"s-prc-w\"><div class=\"old\">KSh 43,000</div><div class=\"bdg _dsct _sm\">28%</div></div><p class=\"mpg\" data-prc=\"KSh 30,999\" data-tot=\"4\">offers from</p></div>,\n",
       " <div class=\"info\"><h3 class=\"name\">HP Refurbished EliteBook 8470p Core I5 - HDD 1TB - 8GB RAM WIFI CAM Silver - 14\" 6 Months WRTY</h3><div class=\"prc\">KSh 20,499</div><div class=\"s-prc-w\"><div class=\"old\">KSh 29,999</div><div class=\"bdg _dsct _sm\">32%</div></div><div class=\"rev\"><div class=\"stars _s\">3.5 out of 5<div class=\"in\" style=\"width:70%\"></div></div>(13)</div></div>,\n",
       " <div class=\"info\"><h3 class=\"name\">Lenovo Refurbished X131e - 11.6\" - Intel Dual-Ccore - 4GB RAM - 320GB HDD - Black (6M WRTY)</h3><div class=\"prc\">KSh 13,490</div><div class=\"s-prc-w\"><div class=\"old\">KSh 18,199</div><div class=\"bdg _dsct _sm\">26%</div></div><p class=\"mpg\" data-prc=\"KSh 13,490\" data-tot=\"4\">offers from</p><div class=\"rev\"><div class=\"stars _s\">3.9 out of 5<div class=\"in\" style=\"width:78%\"></div></div>(63)</div></div>,\n",
       " <div class=\"info\"><h3 class=\"name\">HP SUPER SLIM Refurbished HP EliteBook Folio 9480m, 14\" Intel Core I7 8GB RAM/ 500GB HDD</h3><div class=\"prc\">KSh 30,999</div><div class=\"s-prc-w\"><div class=\"old\">KSh 50,000</div><div class=\"bdg _dsct _sm\">38%</div></div><p class=\"mpg\" data-prc=\"KSh 30,999\" data-tot=\"2\">offers from</p><div class=\"rev\"><div class=\"stars _s\">2 out of 5<div class=\"in\" style=\"width:40%\"></div></div>(1)</div></div>,\n",
       " <div class=\"info\"><h3 class=\"name\">HP REFURBISHED PROBOOK 11 G2 CORE I3 8GB 500HDD *TOUCHSCREEN* WINDOWS 10 () (6 Months WRTY)</h3><div class=\"prc\">KSh 22,079</div><div class=\"s-prc-w\"><div class=\"old\">KSh 30,000</div><div class=\"bdg _dsct _sm\">26%</div></div><p class=\"mpg\" data-prc=\"KSh 22,079\" data-tot=\"4\">offers from</p><div class=\"rev\"><div class=\"stars _s\">4.4 out of 5<div class=\"in\" style=\"width:88.00000000000001%\"></div></div>(14)</div></div>,\n",
       " <div class=\"info\"><div class=\"bdg _mall _xs\">Official Store</div><h3 class=\"name\">HP Notebook 15-Intel Celeron (N Series)-512GB SSD+8GB RAM-15.6\"-Windows 11-Black, (1YR WRTY)</h3><div class=\"prc\">KSh 44,999</div><div class=\"s-prc-w\"><div class=\"old\">KSh 48,000</div><div class=\"bdg _dsct _sm\">6%</div></div><div class=\"rev\"><div class=\"stars _s\">4.3 out of 5<div class=\"in\" style=\"width:86%\"></div></div>(4)</div></div>]"
      ]
     },
     "execution_count": 3,
     "metadata": {},
     "output_type": "execute_result"
    }
   ],
   "source": [
    "soup = BeautifulSoup(html_text, 'html.parser')\n",
    "laptops = soup.find_all('div', class_ = 'info')\n",
    "print(len(laptops))\n",
    "print(laptops[0])\n",
    "laptops"
   ]
  },
  {
   "cell_type": "code",
   "execution_count": 4,
   "metadata": {},
   "outputs": [
    {
     "name": "stdout",
     "output_type": "stream",
     "text": [
      "Product Name:  HP Refurbished EliteBook 8470p Core I5 - HDD 500GB - 4GB RAM WIFI CAM Silver - 14\" 6 Months WRTY\n",
      "Product Price:  KSh 16,199\n"
     ]
    }
   ],
   "source": [
    "product_description = soup.find('h3', class_ = 'name').text\n",
    "price = soup.find('div', class_ = 'prc').text\n",
    "\n",
    "print('Product Name: ', product_description)\n",
    "print('Product Price: ', price)"
   ]
  },
  {
   "cell_type": "code",
   "execution_count": 5,
   "metadata": {},
   "outputs": [
    {
     "name": "stdout",
     "output_type": "stream",
     "text": [
      "Product Name:  HP Refurbished EliteBook 8470p Core I5 - HDD 500GB - 4GB RAM WIFI CAM Silver - 14\" 6 Months WRTY\n",
      "Product Price:  KSh 16,199\n",
      "Product Name:  HP Chromebook 11 G7 Storage 32GB/ 4GB RAM - Intel Celeron N4000 &ndash; Bluetooth &ndash; Camera - Chrome OS &ndash; Refurb., 6M WRTY\n",
      "Product Price:  KSh 11,999\n",
      "Product Name:  Lenovo Refurbished Thinkpad X131e - 11.6\" - Intel Dual-Ccore - 4GB RAM - 320GB HDD - Black (6 Months WRTY)\n",
      "Product Price:  KSh 13,498\n",
      "Product Name:  HP Chromebook 11 G7 - Intel Celeron - Storage 32GB/ 4GB RAM - HDMI- Bluetooth &ndash; Camera -Refurb, 6M WRTY\n",
      "Product Price:  KSh 11,999\n",
      "Product Name:  DELL Refurbished Latitude E7450 HD Display Core I7 4GB RAM 500GB HDD 14″ ,5TH Gen (6M WRY)\n",
      "Product Price:  KSh 28,499\n",
      "Product Name:  Samsung Chromebook 4 &ndash; Intel Celeron N4000 - 11.6\" HD Storage 4 GB RAM - 32GB SSD &ndash; Bluetooth &ndash; Camera - Chrome OS &ndash; XE310XBA - Refurb (6M WRTY)\n",
      "Product Price:  KSh 11,999\n",
      "Product Name:  Geo Geobook 120, Intel Celeron, 4GB RAM 64GB EMMC, 12.5 Inch Display, Windows 10 - Black, 6 Months WRTY\n",
      "Product Price:  KSh 12,999\n",
      "Product Name:  HP Refurbished Elitebook 820  Core  I5, 8GB RAM 500GB  HDD -12.5\", Black\n",
      "Product Price:  KSh 19,499\n",
      "Product Name:  Acer Chromebook C720 Intel Celeron - 11.6&rdquo; - Storage 2GB RAM / 25GB SSD, Webcam , Bluetooth  &ndash; Refurb\n",
      "Product Price:  KSh 11,999\n",
      "Product Name:  DELL Refurbished E5430, Intel Core I5, 4GB RAM - 500GB HDD\n",
      "Product Price:  KSh 18,499\n",
      "Product Name:  HP Refurb Probook 450 G2, 15.6\" -Core I5 - 4GB RAM - 500GB HDD - Win10 Trial, Grey+Free Bag (6 Months WRTY)\n",
      "Product Price:  KSh 31,199\n",
      "Product Name:  HP Refurb Probook 450 G2, 15.6\" -Core I5 - 4GB RAM - 500GB HDD - Win10 Trial, Black+Free Bag (6M WRY)\n",
      "Product Price:  KSh 31,199\n",
      "Product Name:  HP 11 G7 EE Chromebook 11.6\" Screen  4GB RAM - 32GB SSD &ndash; HDMI - Bluetooth &ndash; Refurb, 6M WRTY\n",
      "Product Price:  KSh 11,999\n",
      "Product Name:  AVITA SATUS S102 / 15.6\" FHD / Intel Core i5 1235U / 8G 512GB / US KBD / Light Purple\n",
      "Product Price:  KSh 123,500\n",
      "Product Name:  HP Refurbished  8GB RAM, 500GB HDD HP EliteBook 8460p, Intel Core I5  + FREE MOUSE\n",
      "Product Price:  KSh 19,999\n",
      "Product Name:  HP SUPER SLIM Refurbished HP EliteBook Folio 9470m, 14\" Intel Core I7 8GB RAM/ 500GB HDD\n",
      "Product Price:  KSh 30,999\n",
      "Product Name:  Apple MacBook Pro 13\" Core I5 2.4GHz 8GB RAM, 500GB HDD (2012) Silver Refurbished\n",
      "Product Price:  KSh 24,959\n",
      "Product Name:  HP EliteBook 820 Core I5 8GB RAM 512gb SSD Slim Ultrabook Laptop Refurbished, 6 Months WRTY (6 Months WRTY)\n",
      "Product Price:  KSh 27,999\n",
      "Product Name:  Thomson NEO Laptop, Intel Celeron, 4GB RAM, 256GB SSD, Windows 11 Pro, 15.6\" FHD Display, Silver (1YR WRTY)\n",
      "Product Price:  KSh 19,999\n",
      "Product Name:  Lenovo Refurbished Thinkpad Intel Core I5 8 GB RAM 500 GB HDD 12.5'' Black (6 Months WRTY)\n",
      "Product Price:  KSh 20,499\n",
      "Product Name:  HP Refurbished EliteBook 840, Intel Core i7, 500 HDD +  8GB RAM - Black\n",
      "Product Price:  KSh 27,000\n",
      "Product Name:  HP EliteBook 820 G4 Intel Core I5 7th Gen Refurbished 8GB-256GB SSD Silver-12.6\", 6 Months WRTY\n",
      "Product Price:  KSh 27,792\n",
      "Product Name:  HP EliteBook 8460p, Intel Core I5, 14'' Windows 11 PRO Activated  Refurbished 8GB RAM, Fast Speed 256GB SSD Office & Basic software Installed + FREE MOUSE\n",
      "Product Price:  KSh 19,999\n",
      "Product Name:  X Tigi HeroBook  10.1\"- Quad Core - 4Gb RAM-128Gb ROM -Android Notebook- 4000mAh-13 Months Warranty\n",
      "Product Price:  KSh 11,999\n",
      "Product Name:  HP SUPER SLIM Refurbished HP EliteBook Folio 9480m, 14\" Intel Core I7 8GB RAM/ 1 TB HDD\n",
      "Product Price:  KSh 32,999\n",
      "Product Name:  Lenovo Refurbished Thinkpad 11E Celeron - 4 GB RAM - SSD 128GB 11.6'' - Black (6 Months WRTY)\n",
      "Product Price:  KSh 16,499\n",
      "Product Name:  Thomson NEO Laptop, Intel Celeron, 4GB RAM, 256GB SSD, Windows 11 Pro, 15.6\" FHD Display, Silver, Bag + 64GB Flash + Mouse (1YR WRTY)\n",
      "Product Price:  KSh 23,039\n",
      "Product Name:  HP Refurbished Chromebook 11x360G5 EE 4GB RAM ,32GB HDD,CHROME OS, TOUCH SCREEN + FREE MOUSE\n",
      "Product Price:  KSh 13,999\n",
      "Product Name:  Lenovo Refurbished Thinkpad X250 Intel Core I5 8 GB RAM 256GB SSD 12.5'' Black (6M WRTY)\n",
      "Product Price:  KSh 19,499\n",
      "Product Name:  HP EliteBook 820 G1 Intel Core I5 6th Gen 4GB RAM 500GB HDD 12.5 Inches\n",
      "Product Price:  KSh 19,799\n",
      "Product Name:  Lenovo Refurbished Thinkpad X250 Intel Core I5 8 GB RAM 500 GB HDD 12.5'' Black (6M WRTY)\n",
      "Product Price:  KSh 19,199\n",
      "Product Name:  Lenovo Refurbished Thinkpad X250 Intel Core I5 - 8 GB RAM - 1TB HDD 12.5'' Black (6 Months WRTY)\n",
      "Product Price:  KSh 22,999\n",
      "Product Name:  HP Refurbished EliteBook 8470p - Core I5 - HDD 500GB - 4GB RAM DVDRW CAM Silver - 14\"\n",
      "Product Price:  KSh 16,499\n",
      "Product Name:  HP 8th Gen Refurbished EliteBook 840 G5 Intel Core I5 16GB, 256 GB SSD WIN 11 Trial\n",
      "Product Price:  KSh 39,999\n",
      "Product Name:  HP SUPER SLIM Refurbished HP EliteBook Folio 9470m, 14\" Intel Core I7 4GB RAM/1TB HDD\n",
      "Product Price:  KSh 30,999\n",
      "Product Name:  HP Refurbished EliteBook 8470p Core I5 - HDD 1TB - 8GB RAM WIFI CAM Silver - 14\" 6 Months WRTY\n",
      "Product Price:  KSh 20,499\n",
      "Product Name:  Lenovo Refurbished X131e - 11.6\" - Intel Dual-Ccore - 4GB RAM - 320GB HDD - Black (6M WRTY)\n",
      "Product Price:  KSh 13,490\n",
      "Product Name:  HP SUPER SLIM Refurbished HP EliteBook Folio 9480m, 14\" Intel Core I7 8GB RAM/ 500GB HDD\n",
      "Product Price:  KSh 30,999\n",
      "Product Name:  HP REFURBISHED PROBOOK 11 G2 CORE I3 8GB 500HDD *TOUCHSCREEN* WINDOWS 10 () (6 Months WRTY)\n",
      "Product Price:  KSh 22,079\n",
      "Product Name:  HP Notebook 15-Intel Celeron (N Series)-512GB SSD+8GB RAM-15.6\"-Windows 11-Black, (1YR WRTY)\n",
      "Product Price:  KSh 44,999\n"
     ]
    }
   ],
   "source": [
    "for laptop in laptops:\n",
    "    product_name = laptop.find('h3', class_ = 'name').text\n",
    "    price = laptop.find('div', class_ = 'prc').text\n",
    "\n",
    " \n",
    "    print('Product Name: ', product_name)\n",
    "    print('Product Price: ', price)\n"
   ]
  },
  {
   "cell_type": "code",
   "execution_count": 6,
   "metadata": {},
   "outputs": [
    {
     "name": "stdout",
     "output_type": "stream",
     "text": [
      "Product Name:  Samsung Chromebook 4 &ndash; Intel Celeron N4000 - 11.6\" HD Storage 4 GB RAM - 32GB SSD &ndash; Bluetooth &ndash; Camera - Chrome OS &ndash; XE310XBA - Refurb (6M WRTY)\n",
      "Product Price:  KSh 11,999\n",
      "Product Name:  Acer Chromebook C720 Intel Celeron - 11.6&rdquo; - Storage 2GB RAM / 25GB SSD, Webcam , Bluetooth  &ndash; Refurb\n",
      "Product Price:  KSh 11,999\n",
      "Product Name:  HP 11 G7 EE Chromebook 11.6\" Screen  4GB RAM - 32GB SSD &ndash; HDMI - Bluetooth &ndash; Refurb, 6M WRTY\n",
      "Product Price:  KSh 11,999\n",
      "Product Name:  HP EliteBook 820 Core I5 8GB RAM 512gb SSD Slim Ultrabook Laptop Refurbished, 6 Months WRTY (6 Months WRTY)\n",
      "Product Price:  KSh 27,999\n",
      "Product Name:  Thomson NEO Laptop, Intel Celeron, 4GB RAM, 256GB SSD, Windows 11 Pro, 15.6\" FHD Display, Silver (1YR WRTY)\n",
      "Product Price:  KSh 19,999\n",
      "Product Name:  HP EliteBook 820 G4 Intel Core I5 7th Gen Refurbished 8GB-256GB SSD Silver-12.6\", 6 Months WRTY\n",
      "Product Price:  KSh 27,792\n",
      "Product Name:  HP EliteBook 8460p, Intel Core I5, 14'' Windows 11 PRO Activated  Refurbished 8GB RAM, Fast Speed 256GB SSD Office & Basic software Installed + FREE MOUSE\n",
      "Product Price:  KSh 19,999\n",
      "Product Name:  Lenovo Refurbished Thinkpad 11E Celeron - 4 GB RAM - SSD 128GB 11.6'' - Black (6 Months WRTY)\n",
      "Product Price:  KSh 16,499\n",
      "Product Name:  Thomson NEO Laptop, Intel Celeron, 4GB RAM, 256GB SSD, Windows 11 Pro, 15.6\" FHD Display, Silver, Bag + 64GB Flash + Mouse (1YR WRTY)\n",
      "Product Price:  KSh 23,039\n",
      "Product Name:  Lenovo Refurbished Thinkpad X250 Intel Core I5 8 GB RAM 256GB SSD 12.5'' Black (6M WRTY)\n",
      "Product Price:  KSh 19,499\n",
      "Product Name:  HP 8th Gen Refurbished EliteBook 840 G5 Intel Core I5 16GB, 256 GB SSD WIN 11 Trial\n",
      "Product Price:  KSh 39,999\n",
      "Product Name:  HP Notebook 15-Intel Celeron (N Series)-512GB SSD+8GB RAM-15.6\"-Windows 11-Black, (1YR WRTY)\n",
      "Product Price:  KSh 44,999\n"
     ]
    }
   ],
   "source": [
    "for laptop in laptops:\n",
    "    product_name = laptop.find('h3', class_ = 'name').text\n",
    "    if 'SSD' in product_name:\n",
    "        price = laptop.find('div', class_ = 'prc').text\n",
    "\n",
    "        print('Product Name: ', product_name)\n",
    "        print('Product Price: ', price)"
   ]
  }
 ],
 "metadata": {
  "kernelspec": {
   "display_name": ".venv",
   "language": "python",
   "name": "python3"
  },
  "language_info": {
   "codemirror_mode": {
    "name": "ipython",
    "version": 3
   },
   "file_extension": ".py",
   "mimetype": "text/x-python",
   "name": "python",
   "nbconvert_exporter": "python",
   "pygments_lexer": "ipython3",
   "version": "3.12.3"
  }
 },
 "nbformat": 4,
 "nbformat_minor": 2
}
